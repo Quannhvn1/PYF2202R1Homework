{
 "cells": [
  {
   "cell_type": "code",
   "execution_count": 2,
   "id": "b7aa2984",
   "metadata": {},
   "outputs": [
    {
     "name": "stdout",
     "output_type": "stream",
     "text": [
      "Input Celcius temperature in Centigrade: 5\n",
      "Temperature in Fahrenheit is: 41.0\n"
     ]
    }
   ],
   "source": [
    "c = float(input(\"Input Celcius temperature in Centigrade: \"))\n",
    "f = round((9*(int(c))/5)+32,2)\n",
    "print(f\"Temperature in Fahrenheit is: {f}\")"
   ]
  }
 ],
 "metadata": {
  "kernelspec": {
   "display_name": "Python 3 (ipykernel)",
   "language": "python",
   "name": "python3"
  },
  "language_info": {
   "codemirror_mode": {
    "name": "ipython",
    "version": 3
   },
   "file_extension": ".py",
   "mimetype": "text/x-python",
   "name": "python",
   "nbconvert_exporter": "python",
   "pygments_lexer": "ipython3",
   "version": "3.10.2"
  }
 },
 "nbformat": 4,
 "nbformat_minor": 5
}
