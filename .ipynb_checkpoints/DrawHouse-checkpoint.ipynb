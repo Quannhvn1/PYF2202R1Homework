{
 "cells": [
  {
   "cell_type": "code",
   "execution_count": 4,
   "id": "9b783636",
   "metadata": {},
   "outputs": [],
   "source": [
    "import turtle\n",
    "pen  = turtle.Turtle()\n",
    "pen.pensize(5)\n",
    "pen.fd(8)\n",
    "\n",
    "\n",
    "\n",
    "turtle.done()"
   ]
  }
 ],
 "metadata": {
  "kernelspec": {
   "display_name": "Python 3 (ipykernel)",
   "language": "python",
   "name": "python3"
  },
  "language_info": {
   "codemirror_mode": {
    "name": "ipython",
    "version": 3
   },
   "file_extension": ".py",
   "mimetype": "text/x-python",
   "name": "python",
   "nbconvert_exporter": "python",
   "pygments_lexer": "ipython3",
   "version": "3.10.2"
  }
 },
 "nbformat": 4,
 "nbformat_minor": 5
}
