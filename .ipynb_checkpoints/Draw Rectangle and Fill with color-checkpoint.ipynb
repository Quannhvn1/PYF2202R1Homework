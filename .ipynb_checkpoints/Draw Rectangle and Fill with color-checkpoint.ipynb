{
 "cells": [
  {
   "cell_type": "code",
   "execution_count": 21,
   "id": "526156a1",
   "metadata": {},
   "outputs": [
    {
     "name": "stdout",
     "output_type": "stream",
     "text": [
      "Nhập màu hoặc mã màu: #8B0000\n",
      "Nhập chiều dài hình chữ nhật: 300\n",
      "Nhập chiều rộng hình chữ nhật: 400\n",
      "Chu vi của hình chữ nhật (dài = 300.0, rộng = 400.0) là 1400.0\n",
      "Diện tích của hình chữ nhật (dài = 300.0, rộng = 400.0) là 120000.0\n"
     ]
    }
   ],
   "source": [
    "import turtle\n",
    "pen = turtle.Turtle()\n",
    "color = input(\"Nhập màu hoặc mã màu: \")\n",
    "a = float(input(\"Nhập chiều dài hình chữ nhật: \"))\n",
    "b = float(input(\"Nhập chiều rộng hình chữ nhật: \"))\n",
    "pen.hideturtle()\n",
    "pen.fillcolor(color)\n",
    "pen.begin_fill()\n",
    "for i in range(2):\n",
    "    pen.fd(a)\n",
    "    pen.rt(90)\n",
    "    pen.fd(b)\n",
    "    pen.rt(90)\n",
    "pen.end_fill()\n",
    "perimeter = 2 * (a + b)\n",
    "surface = a * b\n",
    "\n",
    "print(\"Chu vi của hình chữ nhật (dài = {w}, rộng = {h}) là {c}\".format(w=a, h=b, c=perimeter))\n",
    "print(\"Diện tích của hình chữ nhật (dài = {w}, rộng = {h}) là {s}\".format(w=a, h=b, s=surface))\n",
    "turtle.done()"
   ]
  }
 ],
 "metadata": {
  "kernelspec": {
   "display_name": "Python 3 (ipykernel)",
   "language": "python",
   "name": "python3"
  },
  "language_info": {
   "codemirror_mode": {
    "name": "ipython",
    "version": 3
   },
   "file_extension": ".py",
   "mimetype": "text/x-python",
   "name": "python",
   "nbconvert_exporter": "python",
   "pygments_lexer": "ipython3",
   "version": "3.10.2"
  }
 },
 "nbformat": 4,
 "nbformat_minor": 5
}
