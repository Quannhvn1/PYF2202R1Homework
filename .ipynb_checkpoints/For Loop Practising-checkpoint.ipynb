{
 "cells": [
  {
   "cell_type": "code",
   "execution_count": null,
   "id": "76d65987",
   "metadata": {},
   "outputs": [],
   "source": [
    "import turtle\n",
    "\n",
    "wn = turtle.Screen()\n",
    "wn.bgcolor(\"black\")\n",
    "wn.title(\"Star\")\n",
    "\n",
    "myPen = turtle.Turtle()\n",
    "myPen.speed(0)\n",
    "myPen.color(\"#FF0000\")\n",
    "\n",
    "for j in range (1,100):\n",
    "    for i in range (1,6):\n",
    "        myPen.left(144)\n",
    "        myPen.forward(200)\n",
    "    myPen.left(5)\n",
    "\n",
    "turtle.done()"
   ]
  },
  {
   "cell_type": "code",
   "execution_count": null,
   "id": "c71f2f66",
   "metadata": {
    "scrolled": false
   },
   "outputs": [],
   "source": [
    "char = input('Your char?: ')\n",
    "width = int(input('Width?: '))\n",
    "height = int(input('Height?: '))\n",
    "\n",
    "for i in range(1,height + 1):\n",
    "    print_str = ''\n",
    "    for j in range(1,width + 1):\n",
    "        if i == 1 or i == height:\n",
    "            print_str += char\n",
    "        else:\n",
    "            if j == 1 or j == width:\n",
    "                print_str += char\n",
    "            else:\n",
    "                print_str += ' '\n",
    "    print(print_str)"
   ]
  },
  {
   "cell_type": "code",
   "execution_count": null,
   "id": "9cbf09d8",
   "metadata": {},
   "outputs": [],
   "source": [
    "import turtle\n",
    "\n",
    "wn = turtle.Screen()\n",
    "wn.bgcolor(\"black\")\n",
    "wn.title(\"Square\")\n",
    "\n",
    "myPen = turtle.Turtle()\n",
    "myPen.speed(0)\n",
    "myPen.color(\"#FF0000\")\n",
    "\n",
    "for j in range(100):\n",
    "    for i in range(4):\n",
    "      myPen.forward(100)\n",
    "      myPen.left(90)\n",
    "    myPen.lt(5)\n",
    "\n",
    "turtle.done()"
   ]
  }
 ],
 "metadata": {
  "kernelspec": {
   "display_name": "Python 3 (ipykernel)",
   "language": "python",
   "name": "python3"
  },
  "language_info": {
   "codemirror_mode": {
    "name": "ipython",
    "version": 3
   },
   "file_extension": ".py",
   "mimetype": "text/x-python",
   "name": "python",
   "nbconvert_exporter": "python",
   "pygments_lexer": "ipython3",
   "version": "3.10.2"
  }
 },
 "nbformat": 4,
 "nbformat_minor": 5
}
