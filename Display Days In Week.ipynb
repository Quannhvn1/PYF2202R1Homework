{
 "cells": [
  {
   "cell_type": "code",
   "execution_count": null,
   "id": "628725e4",
   "metadata": {},
   "outputs": [],
   "source": [
    "num = int(input(\"Vui lòng nhập một số từ 1 đến 7: \"))\n",
    "if num == 1:\n",
    "    print(\"Thứ 2\")\n",
    "elif num == 2:\n",
    "    print(\"Thứ 3\")\n",
    "elif num == 3:\n",
    "    print(\"Thứ 4\")\n",
    "elif num == 4:\n",
    "    print(\"Thứ 5\")\n",
    "elif num == 5:\n",
    "    print(\"Thứ 6\")\n",
    "elif num == 6:\n",
    "    print(\"Thứ 7\")\n",
    "print(\"Sunday\")\n",
    "else:\n",
    "print(\"Error, out of range\")"
   ]
  }
 ],
 "metadata": {
  "kernelspec": {
   "display_name": "Python 3 (ipykernel)",
   "language": "python",
   "name": "python3"
  },
  "language_info": {
   "codemirror_mode": {
    "name": "ipython",
    "version": 3
   },
   "file_extension": ".py",
   "mimetype": "text/x-python",
   "name": "python",
   "nbconvert_exporter": "python",
   "pygments_lexer": "ipython3",
   "version": "3.10.2"
  }
 },
 "nbformat": 4,
 "nbformat_minor": 5
}
