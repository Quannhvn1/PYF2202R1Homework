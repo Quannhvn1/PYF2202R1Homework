{
 "cells": [
  {
   "cell_type": "code",
   "execution_count": 13,
   "id": "328ee9a4",
   "metadata": {},
   "outputs": [],
   "source": [
    "import turtle\n",
    "pen = turtle.Turtle()\n",
    "r = 100\n",
    "pen.speed(100)\n",
    "i = 0\n",
    "while i < 360:\n",
    "    if (i%60) == 10:\n",
    "        pen.pencolor('blue')\n",
    "    elif (i%60) == 20:\n",
    "        pen.pencolor('green')\n",
    "    elif (i%60) == 30:\n",
    "        pen.pencolor('yellow')\n",
    "    elif (i%60) == 40:\n",
    "        pen.pencolor('orange')\n",
    "    elif (i%60) == 50:\n",
    "        pen.pencolor('red')\n",
    "    elif (i%60) == 60:\n",
    "        pen.pencolor('violet')\n",
    "    pen.circle(r, 90) \n",
    "    pen.circle(r/2, 90)\n",
    "    pen.circle(r, 90) \n",
    "    pen.circle(r/2, 90)\n",
    "    pen.lt(10)\n",
    "    i += 10\n",
    "turtle.done()"
   ]
  },
  {
   "cell_type": "code",
   "execution_count": null,
   "id": "22678fd5",
   "metadata": {},
   "outputs": [],
   "source": []
  }
 ],
 "metadata": {
  "kernelspec": {
   "display_name": "Python 3 (ipykernel)",
   "language": "python",
   "name": "python3"
  },
  "language_info": {
   "codemirror_mode": {
    "name": "ipython",
    "version": 3
   },
   "file_extension": ".py",
   "mimetype": "text/x-python",
   "name": "python",
   "nbconvert_exporter": "python",
   "pygments_lexer": "ipython3",
   "version": "3.10.2"
  }
 },
 "nbformat": 4,
 "nbformat_minor": 5
}
