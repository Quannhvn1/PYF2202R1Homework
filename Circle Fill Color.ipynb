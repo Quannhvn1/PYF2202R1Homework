{
 "cells": [
  {
   "cell_type": "code",
   "execution_count": null,
   "id": "fb89396d",
   "metadata": {},
   "outputs": [
    {
     "name": "stdout",
     "output_type": "stream",
     "text": [
      "2.4627519794622397\n"
     ]
    }
   ],
   "source": [
    "import turtle\n",
    "import random\n",
    " \n",
    "number = random.uniform(0, 3)\n",
    "\n",
    "pen = turtle.Turtle()\n",
    "pen.shape('circle')\n",
    " \n",
    "if number < 1.0:\n",
    "    pen.color('green')\n",
    "elif number < 2.0:\n",
    "    pen.color('yellow')\n",
    "elif number < 3.0:\n",
    "    pen.color('red')\n",
    "print(number)\n",
    "turtle.done()"
   ]
  }
 ],
 "metadata": {
  "kernelspec": {
   "display_name": "Python 3 (ipykernel)",
   "language": "python",
   "name": "python3"
  },
  "language_info": {
   "codemirror_mode": {
    "name": "ipython",
    "version": 3
   },
   "file_extension": ".py",
   "mimetype": "text/x-python",
   "name": "python",
   "nbconvert_exporter": "python",
   "pygments_lexer": "ipython3",
   "version": "3.10.2"
  }
 },
 "nbformat": 4,
 "nbformat_minor": 5
}
