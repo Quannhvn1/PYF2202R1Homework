{
 "cells": [
  {
   "cell_type": "code",
   "execution_count": null,
   "id": "6e066367",
   "metadata": {
    "scrolled": true
   },
   "outputs": [
    {
     "name": "stdout",
     "output_type": "stream",
     "text": [
      "60\n",
      "Chu vi của hình tròn có bán kính = 60.0 là 376.99\n",
      "Diện tích của hình tròn có bán kính = 60.0 là 11309.73\n"
     ]
    }
   ],
   "source": [
    "import turtle\n",
    "import math\n",
    "pen = turtle.Turtle()\n",
    "r = float(input())\n",
    "pen.circle(r)\n",
    "perimeter = 2 * math.pi * r\n",
    "surface = math.pi * r * r\n",
    "print(\"Chu vi của hình tròn có bán kính = {r} là {c}\".format(r=r, c=round(perimeter,2)))\n",
    "print(\"Diện tích của hình tròn có bán kính = {r} là {s}\".format(r=r, s=round(surface,2)))\n",
    "turtle.done()"
   ]
  }
 ],
 "metadata": {
  "kernelspec": {
   "display_name": "Python 3 (ipykernel)",
   "language": "python",
   "name": "python3"
  },
  "language_info": {
   "codemirror_mode": {
    "name": "ipython",
    "version": 3
   },
   "file_extension": ".py",
   "mimetype": "text/x-python",
   "name": "python",
   "nbconvert_exporter": "python",
   "pygments_lexer": "ipython3",
   "version": "3.10.2"
  }
 },
 "nbformat": 4,
 "nbformat_minor": 5
}
