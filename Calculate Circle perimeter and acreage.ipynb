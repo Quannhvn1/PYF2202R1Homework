{
 "cells": [
  {
   "cell_type": "code",
   "execution_count": 3,
   "id": "6e066367",
   "metadata": {},
   "outputs": [
    {
     "name": "stdout",
     "output_type": "stream",
     "text": [
      "5\n"
     ]
    },
    {
     "ename": "NameError",
     "evalue": "name 'c' is not defined",
     "output_type": "error",
     "traceback": [
      "\u001b[1;31m---------------------------------------------------------------------------\u001b[0m",
      "\u001b[1;31mNameError\u001b[0m                                 Traceback (most recent call last)",
      "Input \u001b[1;32mIn [3]\u001b[0m, in \u001b[0;36m<module>\u001b[1;34m\u001b[0m\n\u001b[0;32m      6\u001b[0m perimeter \u001b[38;5;241m=\u001b[39m \u001b[38;5;241m2\u001b[39m \u001b[38;5;241m*\u001b[39m math\u001b[38;5;241m.\u001b[39mpi \u001b[38;5;241m*\u001b[39m r\n\u001b[0;32m      7\u001b[0m surface \u001b[38;5;241m=\u001b[39m math\u001b[38;5;241m.\u001b[39mpi \u001b[38;5;241m*\u001b[39m r \u001b[38;5;241m*\u001b[39m r\n\u001b[1;32m----> 8\u001b[0m \u001b[38;5;28mprint\u001b[39m(\u001b[38;5;124m\"\u001b[39m\u001b[38;5;124mChu vi của hình tròn có bán kính = \u001b[39m\u001b[38;5;132;01m{r}\u001b[39;00m\u001b[38;5;124m là \u001b[39m\u001b[38;5;132;01m{c}\u001b[39;00m\u001b[38;5;124m\"\u001b[39m\u001b[38;5;241m.\u001b[39mformat(r\u001b[38;5;241m=\u001b[39mr, c\u001b[38;5;241m=\u001b[39m\u001b[43mc\u001b[49m))\n\u001b[0;32m      9\u001b[0m \u001b[38;5;28mprint\u001b[39m(\u001b[38;5;124m\"\u001b[39m\u001b[38;5;124mDiện tích của hình tròn có bán kính = \u001b[39m\u001b[38;5;132;01m{r}\u001b[39;00m\u001b[38;5;124m là \u001b[39m\u001b[38;5;132;01m{s}\u001b[39;00m\u001b[38;5;124m\"\u001b[39m\u001b[38;5;241m.\u001b[39mformat(r\u001b[38;5;241m=\u001b[39mr, s\u001b[38;5;241m=\u001b[39ms))\n\u001b[0;32m     10\u001b[0m turtle\u001b[38;5;241m.\u001b[39mdone()\n",
      "\u001b[1;31mNameError\u001b[0m: name 'c' is not defined"
     ]
    }
   ],
   "source": [
    "import turtle\n",
    "import math\n",
    "pen = turtle.Turtle()\n",
    "r = float(input())\n",
    "pen.circle(r)\n",
    "perimeter = 2 * math.pi * r\n",
    "surface = math.pi * r * r\n",
    "print(\"Chu vi của hình tròn có bán kính = {r} là {c}.format(r=r, c=c))\n",
    "print(\"Diện tích của hình tròn có bán kính = {r} là {s}.format(r=r, s=s))\n",
    "turtle.done()"
   ]
  }
 ],
 "metadata": {
  "kernelspec": {
   "display_name": "Python 3 (ipykernel)",
   "language": "python",
   "name": "python3"
  },
  "language_info": {
   "codemirror_mode": {
    "name": "ipython",
    "version": 3
   },
   "file_extension": ".py",
   "mimetype": "text/x-python",
   "name": "python",
   "nbconvert_exporter": "python",
   "pygments_lexer": "ipython3",
   "version": "3.10.2"
  }
 },
 "nbformat": 4,
 "nbformat_minor": 5
}
