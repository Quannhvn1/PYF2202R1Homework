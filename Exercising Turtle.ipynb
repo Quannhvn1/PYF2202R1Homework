{
 "cells": [
  {
   "cell_type": "code",
   "execution_count": null,
   "id": "a0374abc",
   "metadata": {},
   "outputs": [],
   "source": [
    "import turtle as t\n",
    "import random as r\n",
    "pen = t.Turtle()\n",
    "pen.hideturtle()\n",
    "pen.pensize(5)\n",
    "pen.speed(10)\n",
    "pen.color('red')\n",
    "pen.shape(\"turtle\")\n",
    "pen.goto(-400,0)\n",
    "count = 0\n",
    "while count < 10:\n",
    "    # sinh hai giá trị ngẫu nhiên\n",
    "    left_ran = r.randint(20, 50)\n",
    "    right_ran = r.randint(20, 50)\n",
    "    pen.pendown()\n",
    "    # rùa tiến về phía trước với giá trị ngẫu\n",
    "    # nhiên ở trên, có để lại nét vẽ\n",
    "    pen.forward(left_ran)\n",
    "    pen.penup()\n",
    "    # rùa tiến về phía trước với giá trị ngẫu\n",
    "    # nhiên ở trên, không để lại nét vẽ\n",
    "    pen.forward(right_ran)\n",
    "    count += 1\n",
    "turtle.done()"
   ]
  }
 ],
 "metadata": {
  "kernelspec": {
   "display_name": "Python 3 (ipykernel)",
   "language": "python",
   "name": "python3"
  },
  "language_info": {
   "codemirror_mode": {
    "name": "ipython",
    "version": 3
   },
   "file_extension": ".py",
   "mimetype": "text/x-python",
   "name": "python",
   "nbconvert_exporter": "python",
   "pygments_lexer": "ipython3",
   "version": "3.10.2"
  }
 },
 "nbformat": 4,
 "nbformat_minor": 5
}
