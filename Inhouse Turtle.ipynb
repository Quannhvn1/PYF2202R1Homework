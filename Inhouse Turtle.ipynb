{
 "cells": [
  {
   "cell_type": "code",
   "execution_count": null,
   "id": "bb419f18",
   "metadata": {
    "scrolled": true
   },
   "outputs": [],
   "source": [
    "import turtle as t\n",
    "import random as r\n",
    "# set up rùa\n",
    "pen = t.Turtle()\n",
    "pen.hideturtle()\n",
    "pen.pensize(10)\n",
    "pen.speed(10)\n",
    "pen.color('red')\n",
    "pen.shape(\"turtle\")\n",
    "pen.penup()\n",
    "pen.goto(0, -200)\n",
    "pen.pendown()\n",
    "#Vẽ vòng bao giới hạn của rùa\n",
    "pen.circle(200)\n",
    "#Hướng đi ngẫu nhiên của rùa\n",
    "angle = r.randint(0, 360)\n",
    "pen.right(angle)\n",
    "pen.showturtle()\n",
    "pen.penup()\n",
    "pen.speed(10)\n",
    "pen.shape(\"turtle\")\n",
    "pen.pencolor('green')\n",
    "pen.goto(0, 0)\n",
    "count = 0\n",
    "while True:\n",
    "    pen.speed(1)\n",
    "    pen.forward(188)\n",
    "    pen.hideturtle()\n",
    "    pen.speed(10)\n",
    "    pen.goto(0, 0)\n",
    "    angle = r.randint(0, 360)\n",
    "    pen.right(angle)\n",
    "    pen.showturtle()\n",
    "    count += 1\n",
    "    if count == 10:\n",
    "        break\n",
    "t.done()\n",
    "\n",
    "\n",
    "\n",
    "\n",
    "\n"
   ]
  }
 ],
 "metadata": {
  "kernelspec": {
   "display_name": "Python 3 (ipykernel)",
   "language": "python",
   "name": "python3"
  },
  "language_info": {
   "codemirror_mode": {
    "name": "ipython",
    "version": 3
   },
   "file_extension": ".py",
   "mimetype": "text/x-python",
   "name": "python",
   "nbconvert_exporter": "python",
   "pygments_lexer": "ipython3",
   "version": "3.10.2"
  }
 },
 "nbformat": 4,
 "nbformat_minor": 5
}
