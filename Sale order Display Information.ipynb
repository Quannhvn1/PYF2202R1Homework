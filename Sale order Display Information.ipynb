{
 "cells": [
  {
   "cell_type": "code",
   "execution_count": 1,
   "id": "716ac010",
   "metadata": {},
   "outputs": [
    {
     "name": "stdout",
     "output_type": "stream",
     "text": [
      "Bạn đã chi tiêu bao nhiêu: 1234\n",
      "Giá sau giảm giá là:  1184.0\n"
     ]
    }
   ],
   "source": [
    "num = float(input(\"Bạn đã chi tiêu bao nhiêu: \"))\n",
    "if num >= 150.0:\n",
    "    print(\"Giá sau giảm giá là: \", num - 50)\n",
    "elif num >= 100.0:\n",
    "    print(\"Giá sau giảm giá là: \", num - 25)\n",
    "elif num >= 75.0:\n",
    "    print(\"Giá sau giảm giá là: \", num - 15)\n",
    "else:\n",
    "    print(\"Giá sau giảm giá là: \", num)"
   ]
  }
 ],
 "metadata": {
  "kernelspec": {
   "display_name": "Python 3 (ipykernel)",
   "language": "python",
   "name": "python3"
  },
  "language_info": {
   "codemirror_mode": {
    "name": "ipython",
    "version": 3
   },
   "file_extension": ".py",
   "mimetype": "text/x-python",
   "name": "python",
   "nbconvert_exporter": "python",
   "pygments_lexer": "ipython3",
   "version": "3.10.2"
  }
 },
 "nbformat": 4,
 "nbformat_minor": 5
}
