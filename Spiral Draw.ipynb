{
 "cells": [
  {
   "cell_type": "code",
   "execution_count": null,
   "id": "96a2e97d",
   "metadata": {},
   "outputs": [],
   "source": [
    "import turtle\n",
    "import math\n",
    "pen = turtle.Turtle()\n",
    "pen.speed(1000)\n",
    "x = 0\n",
    "y = 0\n",
    "radius = 50\n",
    "d = 2\n",
    "angle = 5\n",
    "while True:\n",
    "    x += math.sin(angle)*d\n",
    "    y += math.cos(angle)*d\n",
    "    distance = (x**2 + y**2)**0.5\n",
    "    pen.lt(angle)\n",
    "    pen.fd(d)\n",
    "    d += 0.1\n",
    "    if distance > radius:\n",
    "        break\n",
    "turtle.done()"
   ]
  },
  {
   "cell_type": "code",
   "execution_count": null,
   "id": "b6361a7f",
   "metadata": {},
   "outputs": [],
   "source": []
  }
 ],
 "metadata": {
  "kernelspec": {
   "display_name": "Python 3 (ipykernel)",
   "language": "python",
   "name": "python3"
  },
  "language_info": {
   "codemirror_mode": {
    "name": "ipython",
    "version": 3
   },
   "file_extension": ".py",
   "mimetype": "text/x-python",
   "name": "python",
   "nbconvert_exporter": "python",
   "pygments_lexer": "ipython3",
   "version": "3.10.2"
  }
 },
 "nbformat": 4,
 "nbformat_minor": 5
}
