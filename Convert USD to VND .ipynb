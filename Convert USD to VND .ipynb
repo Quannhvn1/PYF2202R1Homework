{
 "cells": [
  {
   "cell_type": "code",
   "execution_count": 6,
   "id": "1f70d7ea",
   "metadata": {},
   "outputs": [
    {
     "name": "stdout",
     "output_type": "stream",
     "text": [
      "Nhập số tiền USD cần quy đổi: 5\n",
      "Nhập tỷ giá quy đổi ngoại tệ/nội tệ hiện tại: 23000\n",
      "5.0 USD đổi được 115,000.0 VND theo tỷ giá 23,000.0\n"
     ]
    }
   ],
   "source": [
    "foreign_currency_amount = float(input(\"Nhập số tiền USD cần quy đổi: \"))\n",
    "exchange_rate = float(input(\"Nhập tỷ giá quy đổi ngoại tệ/nội tệ hiện tại: \"))\n",
    "domestic_currency_amount = round(foreign_currency_amount * exchange_rate , 0)\n",
    "print(\"{usd:,} USD đổi được {vnd:,} VND theo tỷ giá {rate:,}\".format(usd = foreign_currency_amount, vnd = domestic_currency_amount, rate = exchange_rate  ))"
   ]
  }
 ],
 "metadata": {
  "kernelspec": {
   "display_name": "Python 3 (ipykernel)",
   "language": "python",
   "name": "python3"
  },
  "language_info": {
   "codemirror_mode": {
    "name": "ipython",
    "version": 3
   },
   "file_extension": ".py",
   "mimetype": "text/x-python",
   "name": "python",
   "nbconvert_exporter": "python",
   "pygments_lexer": "ipython3",
   "version": "3.10.2"
  }
 },
 "nbformat": 4,
 "nbformat_minor": 5
}
