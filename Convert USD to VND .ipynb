{
 "cells": [
  {
   "cell_type": "code",
   "execution_count": null,
   "id": "1f70d7ea",
   "metadata": {},
   "outputs": [],
   "source": [
    "foreign_currency_amount = float(input(\"Nhập số tiền USD cần quy đổi: \"))\n",
    "exchange_rate = float(input(\"Nhập tỷ giá quy đổi ngoại tệ/nội tệ hiện tại: \"))\n",
    "domestic_currency_amount = round(foreign_currency_amount * exchange_rate , 0)\n",
    "print(\"{usd:,} USD đổi được {vnd:,} VND theo tỷ giá {rate:,}\".format\n",
    "      (usd = foreign_currency_amount, \n",
    "       vnd = domestic_currency_amount, \n",
    "       rate = exchange_rate  ))"
   ]
  }
 ],
 "metadata": {
  "kernelspec": {
   "display_name": "Python 3 (ipykernel)",
   "language": "python",
   "name": "python3"
  },
  "language_info": {
   "codemirror_mode": {
    "name": "ipython",
    "version": 3
   },
   "file_extension": ".py",
   "mimetype": "text/x-python",
   "name": "python",
   "nbconvert_exporter": "python",
   "pygments_lexer": "ipython3",
   "version": "3.10.2"
  }
 },
 "nbformat": 4,
 "nbformat_minor": 5
}
